{
 "cells": [
  {
   "cell_type": "markdown",
   "id": "fd8a9bf2",
   "metadata": {},
   "source": [
    "### Imports and Downloads"
   ]
  },
  {
   "cell_type": "code",
   "execution_count": 3,
   "id": "508ff6cd",
   "metadata": {},
   "outputs": [],
   "source": [
    "from pyxdf import match_streaminfos, resolve_streams\n",
    "from mnelab.io.xdf import read_raw_xdf\n",
    "import mne\n",
    "import matplotlib.pyplot as plt\n",
    "import numpy as np"
   ]
  },
  {
   "cell_type": "markdown",
   "id": "b9ffb924",
   "metadata": {},
   "source": [
    "### Organizing the file and folder structure of the xdf files"
   ]
  },
  {
   "cell_type": "code",
   "execution_count": null,
   "id": "6371777b",
   "metadata": {},
   "outputs": [],
   "source": [
    "# Get the path of the xdf file - determine the arguments to the script\n",
    "root_path = ''\n",
    "sub_no = 1 # get the id of the subject\n",
    "sess_no = 2 # get the session number"
   ]
  },
  {
   "cell_type": "code",
   "execution_count": null,
   "id": "1023ac9d",
   "metadata": {},
   "outputs": [],
   "source": [
    "#loop over sessions of .xdf file\n",
    "# get info about the file name structure\n",
    "def retrieve_filename():\n",
    "    '''\n",
    "    Takes the user arguments and outputs the final xdf file (root_dir+filename)\n",
    "    '''\n",
    "    return file"
   ]
  },
  {
   "cell_type": "markdown",
   "id": "f9ee2091",
   "metadata": {},
   "source": [
    "### If we have to concatanate multiple xdf files to one Raw Object understandable by mne python"
   ]
  },
  {
   "cell_type": "code",
   "execution_count": null,
   "id": "c9203ab9",
   "metadata": {},
   "outputs": [],
   "source": [
    "raws = []\n",
    "for fname in (\"MI_BCI2021_AK_01.xdf\", \"MI_BCI2021_AK_02.xdf\",\n",
    "              \"MI_BCI2021_AK_03.xdf\", \"MI_BCI2021_AK_04.xdf\"):\n",
    "    stream_id = match_streaminfos(resolve_streams(fname), [{\"type\": \"EEG\"}])[0]\n",
    "    raws.append(read_raw_xdf(fname, stream_ids=[stream_id], fs_new=500))\n",
    "\n",
    "raw = mne.concatenate_raws(raws)\n",
    "del raws"
   ]
  },
  {
   "cell_type": "markdown",
   "id": "2afffd76",
   "metadata": {},
   "source": [
    "### Get the streams"
   ]
  },
  {
   "cell_type": "code",
   "execution_count": null,
   "id": "ec571f89",
   "metadata": {},
   "outputs": [],
   "source": [
    "# Get streams\n",
    "streams = resolve_streams(file)\n",
    "\n",
    "#We can use pyxdf.match_streaminfos() to automatically query the XDF file for the stream ID of needed streams??\n",
    "# get the three streams ids we need\n",
    "id_eeg = match_streaminfos(streams, [{\"name\": \"EEGstream EE225\"}])[0]\n",
    "id_eeg_markers = match_streaminfos(streams, [{\"name\": \"eegoSports-EE225_markersMarkers\"}])[0]\n",
    "id_lsl_markers = match_streaminfos(streams, [{\"name\": \"LSL_Markers_Matlab\"}])[0] "
   ]
  },
  {
   "cell_type": "markdown",
   "id": "4e7dea5f",
   "metadata": {},
   "source": [
    "### Read the xdf raw file"
   ]
  },
  {
   "cell_type": "code",
   "execution_count": null,
   "id": "8778eb84",
   "metadata": {},
   "outputs": [],
   "source": [
    "# Create raw object\n",
    "raw = read_raw_xdf(file, stream_ids=[id_eeg])"
   ]
  },
  {
   "cell_type": "markdown",
   "id": "c6a2a154",
   "metadata": {},
   "source": [
    "### Plotting function"
   ]
  },
  {
   "cell_type": "code",
   "execution_count": null,
   "id": "99f6fb25",
   "metadata": {},
   "outputs": [],
   "source": [
    "def plot():\n",
    "    return plot"
   ]
  }
 ],
 "metadata": {
  "kernelspec": {
   "display_name": "Python 3 (ipykernel)",
   "language": "python",
   "name": "python3"
  },
  "language_info": {
   "codemirror_mode": {
    "name": "ipython",
    "version": 3
   },
   "file_extension": ".py",
   "mimetype": "text/x-python",
   "name": "python",
   "nbconvert_exporter": "python",
   "pygments_lexer": "ipython3",
   "version": "3.11.2"
  }
 },
 "nbformat": 4,
 "nbformat_minor": 5
}
