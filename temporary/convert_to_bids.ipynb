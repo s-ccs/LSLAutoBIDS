{
 "cells": [
  {
   "cell_type": "markdown",
   "id": "bc513af3",
   "metadata": {},
   "source": [
    "### Imports"
   ]
  },
  {
   "cell_type": "code",
   "execution_count": 1,
   "id": "f0ab86ca",
   "metadata": {},
   "outputs": [],
   "source": [
    "import numpy\n",
    "import mne"
   ]
  },
  {
   "cell_type": "markdown",
   "id": "0ddff7dc",
   "metadata": {},
   "source": [
    "### File Structure"
   ]
  },
  {
   "cell_type": "code",
   "execution_count": null,
   "id": "abb26251",
   "metadata": {},
   "outputs": [],
   "source": [
    "bids_root_path = ''\n"
   ]
  },
  {
   "cell_type": "markdown",
   "id": "1f5c413b",
   "metadata": {},
   "source": [
    "### Define the events"
   ]
  },
  {
   "cell_type": "code",
   "execution_count": null,
   "id": "437dfaa8",
   "metadata": {},
   "outputs": [],
   "source": [
    "# Define the events to be tested? Custom or imported?"
   ]
  },
  {
   "cell_type": "markdown",
   "id": "f21125f6",
   "metadata": {},
   "source": []
  }
 ],
 "metadata": {
  "kernelspec": {
   "display_name": "Python 3 (ipykernel)",
   "language": "python",
   "name": "python3"
  },
  "language_info": {
   "codemirror_mode": {
    "name": "ipython",
    "version": 3
   },
   "file_extension": ".py",
   "mimetype": "text/x-python",
   "name": "python",
   "nbconvert_exporter": "python",
   "pygments_lexer": "ipython3",
   "version": "3.11.2"
  }
 },
 "nbformat": 4,
 "nbformat_minor": 5
}
