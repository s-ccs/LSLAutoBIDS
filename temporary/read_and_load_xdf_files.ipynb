{
 "cells": [
  {
   "cell_type": "code",
   "execution_count": 1,
   "id": "1510057c",
   "metadata": {},
   "outputs": [],
   "source": [
    "# Imports\n",
    "import pyxdf\n",
    "\n",
    "import mne\n",
    "from mne.datasets import misc"
   ]
  },
  {
   "cell_type": "code",
   "execution_count": 2,
   "id": "c8bd066d",
   "metadata": {
    "scrolled": true
   },
   "outputs": [
    {
     "name": "stdout",
     "output_type": "stream",
     "text": [
      "Using default location ~/mne_data for misc...\n",
      "Creating ~/mne_data\n",
      "Dataset misc version 0.0 out of date, latest version is 0.24\n"
     ]
    },
    {
     "name": "stderr",
     "output_type": "stream",
     "text": [
      "Downloading file 'mne-misc-data-0.24.tar.gz' from 'https://codeload.github.com/mne-tools/mne-misc-data/tar.gz/0.24' to '/home/manpa/mne_data'.\n",
      "0.00B [00:00, ?B/s]     \n",
      "Untarring contents of '/home/manpa/mne_data/mne-misc-data-0.24.tar.gz' to '/home/manpa/mne_data'\n"
     ]
    },
    {
     "name": "stdout",
     "output_type": "stream",
     "text": [
      "Attempting to create new mne-python configuration file:\n",
      "/home/manpa/.mne/mne-python.json\n"
     ]
    }
   ],
   "source": [
    "fname = (\n",
    "    misc.data_path() / 'xdf' /\n",
    "    'sub-P001_ses-S004_task-Default_run-001_eeg_a2.xdf')"
   ]
  },
  {
   "cell_type": "code",
   "execution_count": 3,
   "id": "07a722e0",
   "metadata": {},
   "outputs": [],
   "source": [
    "streams, header = pyxdf.load_xdf(fname)"
   ]
  },
  {
   "cell_type": "code",
   "execution_count": 6,
   "id": "d72fe9c5",
   "metadata": {},
   "outputs": [
    {
     "data": {
      "text/plain": [
       "{'info': defaultdict(list,\n",
       "             {'version': ['1.0'], 'datetime': ['2021-04-15T16:40:44-0400']})}"
      ]
     },
     "execution_count": 6,
     "metadata": {},
     "output_type": "execute_result"
    }
   ],
   "source": [
    "# print streams and header\n",
    "# streams\n",
    "# header"
   ]
  },
  {
   "cell_type": "code",
   "execution_count": 15,
   "id": "3c25d9ae",
   "metadata": {},
   "outputs": [
    {
     "data": {
      "text/plain": [
       "array([[-1.74916992e+03, -1.72666016e+03, -1.82285156e+03, ...,\n",
       "        -4.91943359e+02, -4.52197266e+02, -4.18750000e+02],\n",
       "       [ 2.61767578e+02,  2.40722656e+02,  3.35644531e+02, ...,\n",
       "        -9.86621094e+02, -1.02675781e+03, -1.06469727e+03],\n",
       "       [ 7.00634766e+02,  6.64794922e+02,  6.16406250e+02, ...,\n",
       "         4.26416016e+02,  4.73876953e+02,  4.69775391e+02],\n",
       "       [ 7.08007812e+01,  1.11572266e+02,  1.49902344e+02, ...,\n",
       "         3.30322266e+02,  2.88378906e+02,  2.87255859e+02],\n",
       "       [-1.00000000e+00, -1.00000000e+00, -1.00000000e+00, ...,\n",
       "        -1.00000000e+00, -1.00000000e+00, -1.00000000e+00]], dtype=float32)"
      ]
     },
     "execution_count": 15,
     "metadata": {},
     "output_type": "execute_result"
    }
   ],
   "source": [
    "# get the first index of the streams list and print the contents and the datatype of the time series key.\n",
    "data = streams[0][\"time_series\"].T"
   ]
  },
  {
   "cell_type": "code",
   "execution_count": 18,
   "id": "83d52f13",
   "metadata": {},
   "outputs": [
    {
     "data": {
      "text/plain": [
       "5"
      ]
     },
     "execution_count": 18,
     "metadata": {},
     "output_type": "execute_result"
    }
   ],
   "source": [
    "# data.shape[1]"
   ]
  },
  {
   "cell_type": "code",
   "execution_count": null,
   "id": "b07245c1",
   "metadata": {},
   "outputs": [],
   "source": [
    "assert data.shape[0] == 5  # four raw EEG plus one stim channel"
   ]
  },
  {
   "cell_type": "code",
   "execution_count": 20,
   "id": "80eba21d",
   "metadata": {},
   "outputs": [],
   "source": [
    "#data[:4:2] -= data[1:4:2]  # subtract (rereference) to get two bipolar EEG\n",
    "#data = data[::2]  # subselect\n",
    "#data[:2] *= (1e-6 / 50 / 2)  # uV -> V and preamp gain\n",
    "#sfreq = float(streams[0][\"info\"][\"nominal_srate\"][0])\n",
    "#info = mne.create_info(3, sfreq, [\"eeg\", \"eeg\", \"stim\"])\n",
    "#raw = mne.io.RawArray(data, info)\n",
    "#raw.plot(scalings=dict(eeg=100e-6), duration=1, start=14)"
   ]
  },
  {
   "cell_type": "code",
   "execution_count": null,
   "id": "6526a912",
   "metadata": {},
   "outputs": [],
   "source": []
  }
 ],
 "metadata": {
  "kernelspec": {
   "display_name": "Python 3 (ipykernel)",
   "language": "python",
   "name": "python3"
  },
  "language_info": {
   "codemirror_mode": {
    "name": "ipython",
    "version": 3
   },
   "file_extension": ".py",
   "mimetype": "text/x-python",
   "name": "python",
   "nbconvert_exporter": "python",
   "pygments_lexer": "ipython3",
   "version": "3.11.2"
  }
 },
 "nbformat": 4,
 "nbformat_minor": 5
}
