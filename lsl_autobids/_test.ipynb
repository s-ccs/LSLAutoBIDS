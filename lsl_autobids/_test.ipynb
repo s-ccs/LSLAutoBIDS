{
 "cells": [
  {
   "cell_type": "code",
   "execution_count": 1,
   "metadata": {},
   "outputs": [],
   "source": [
    "from mnelab.io.xdf import read_raw_xdf    \n",
    "from pyxdf import match_streaminfos, resolve_streams\n",
    "import pyxdf"
   ]
  },
  {
   "cell_type": "code",
   "execution_count": 20,
   "metadata": {},
   "outputs": [],
   "source": [
    "import datalad as dl"
   ]
  },
  {
   "cell_type": "code",
   "execution_count": 30,
   "metadata": {},
   "outputs": [],
   "source": [
    "l =\n"
   ]
  },
  {
   "cell_type": "code",
   "execution_count": 2,
   "metadata": {},
   "outputs": [],
   "source": [
    "%load_ext autoreload\n",
    "%autoreload 2"
   ]
  },
  {
   "cell_type": "code",
   "execution_count": 3,
   "metadata": {},
   "outputs": [],
   "source": [
    "xdf_path =\"/home/recorder/projects/2024FreeViewingMSCOCO/sub-010/ses-001/eeg/sub-010_ses-001_task-Default_run-001_eeg.xdf\"\n",
    "streams = resolve_streams(xdf_path)\n",
    "fs_new = 1000\n",
    "\n",
    "stream_id = match_streaminfos(streams, [{\"type\": \"EEG\"}])[0]\n",
    "        \n"
   ]
  },
  {
   "cell_type": "code",
   "execution_count": 4,
   "metadata": {},
   "outputs": [],
   "source": [
    "data, header = pyxdf.load_xdf(xdf_path)"
   ]
  },
  {
   "cell_type": "code",
   "execution_count": 5,
   "metadata": {},
   "outputs": [
    {
     "data": {
      "text/plain": [
       "[(0, 1257)]"
      ]
     },
     "execution_count": 5,
     "metadata": {},
     "output_type": "execute_result"
    }
   ],
   "source": [
    "data[0][\"info\"][\"segments\"]"
   ]
  },
  {
   "cell_type": "code",
   "execution_count": 6,
   "metadata": {},
   "outputs": [
    {
     "data": {
      "text/plain": [
       "[(0, 7399344)]"
      ]
     },
     "execution_count": 6,
     "metadata": {},
     "output_type": "execute_result"
    }
   ],
   "source": [
    "data[2][\"info\"][\"segments\"]"
   ]
  },
  {
   "cell_type": "code",
   "execution_count": 7,
   "metadata": {},
   "outputs": [],
   "source": [
    "import align"
   ]
  },
  {
   "cell_type": "code",
   "execution_count": 8,
   "metadata": {},
   "outputs": [
    {
     "data": {
      "text/plain": [
       "array([1.38056292, 5.00190821, 2.70434878, ..., 0.83243086, 1.43970179,\n",
       "       5.0017813 ])"
      ]
     },
     "execution_count": 8,
     "metadata": {},
     "output_type": "execute_result"
    }
   ],
   "source": [
    "import numpy as np\n",
    "np.diff(data[0][\"time_stamps\"])"
   ]
  },
  {
   "cell_type": "code",
   "execution_count": 9,
   "metadata": {},
   "outputs": [
    {
     "name": "stdout",
     "output_type": "stream",
     "text": [
      "Stream # 1  has  1 segments\n",
      "0 : from index  0 to  7399345\n"
     ]
    },
    {
     "ename": "KeyboardInterrupt",
     "evalue": "",
     "output_type": "error",
     "traceback": [
      "\u001b[31m---------------------------------------------------------------------------\u001b[39m",
      "\u001b[31mKeyboardInterrupt\u001b[39m                         Traceback (most recent call last)",
      "\u001b[36mCell\u001b[39m\u001b[36m \u001b[39m\u001b[32mIn[9]\u001b[39m\u001b[32m, line 2\u001b[39m\n\u001b[32m      1\u001b[39m max_srate = \u001b[38;5;28mmax\u001b[39m([stream[\u001b[33m\"\u001b[39m\u001b[33mnominal_srate\u001b[39m\u001b[33m\"\u001b[39m] \u001b[38;5;28;01mfor\u001b[39;00m stream \u001b[38;5;129;01min\u001b[39;00m streams])\n\u001b[32m----> \u001b[39m\u001b[32m2\u001b[39m out = \u001b[43malign\u001b[49m\u001b[43m.\u001b[49m\u001b[43malign_streams\u001b[49m\u001b[43m(\u001b[49m\u001b[43m[\u001b[49m\u001b[43mdata\u001b[49m\u001b[43m[\u001b[49m\u001b[32;43m2\u001b[39;49m\u001b[43m]\u001b[49m\u001b[43m]\u001b[49m\u001b[43m,\u001b[49m\u001b[43msampling_rate\u001b[49m\u001b[43m \u001b[49m\u001b[43m=\u001b[49m\u001b[43m \u001b[49m\u001b[43mmax_srate\u001b[49m\u001b[43m)\u001b[49m\n",
      "\u001b[36mFile \u001b[39m\u001b[32m~/Documents/LSLAutoBIDS/lsl_autobids/align.py:188\u001b[39m, in \u001b[36malign_streams\u001b[39m\u001b[34m(streams, align_foo, aligned_timestamps, sampling_rate)\u001b[39m\n\u001b[32m    186\u001b[39m     \u001b[38;5;28;01mraise\u001b[39;00m \u001b[38;5;167;01mRuntimeError\u001b[39;00m(\u001b[33m\"\u001b[39m\u001b[33mDuplicate timestamps found in old_timestamps\u001b[39m\u001b[33m\"\u001b[39m)\n\u001b[32m    187\u001b[39m \u001b[38;5;66;03m# apply align function as defined by the user (or default)\u001b[39;00m\n\u001b[32m--> \u001b[39m\u001b[32m188\u001b[39m segment_new_timeseries = \u001b[43malign\u001b[49m\u001b[43m(\u001b[49m\n\u001b[32m    189\u001b[39m \u001b[43m    \u001b[49m\u001b[43msegment_old_timestamps\u001b[49m\u001b[43m,\u001b[49m\n\u001b[32m    190\u001b[39m \u001b[43m    \u001b[49m\u001b[43msegment_old_timeseries\u001b[49m\u001b[43m,\u001b[49m\n\u001b[32m    191\u001b[39m \u001b[43m    \u001b[49m\u001b[43maligned_timestamps\u001b[49m\u001b[43m,\u001b[49m\n\u001b[32m    192\u001b[39m \u001b[43m\u001b[49m\u001b[43m)\u001b[49m\n\u001b[32m    193\u001b[39m \u001b[38;5;66;03m# pick indices of the NEW timestamps closest to when segments start and stop\u001b[39;00m\n\u001b[32m    194\u001b[39m a = stream[\u001b[33m\"\u001b[39m\u001b[33mtime_stamps\u001b[39m\u001b[33m\"\u001b[39m][seg_start]\n",
      "\u001b[36mFile \u001b[39m\u001b[32m~/Documents/LSLAutoBIDS/lsl_autobids/align.py:60\u001b[39m, in \u001b[36m_shift_align\u001b[39m\u001b[34m(old_timestamps, old_timeseries, new_timestamps)\u001b[39m\n\u001b[32m     58\u001b[39m     too_old.append((nix, nts))\n\u001b[32m     59\u001b[39m \u001b[38;5;28;01melse\u001b[39;00m:\n\u001b[32m---> \u001b[39m\u001b[32m60\u001b[39m     closest = np.abs(old_timestamps - nts).argmin()\n\u001b[32m     61\u001b[39m     \u001b[38;5;28;01mif\u001b[39;00m closest \u001b[38;5;129;01mnot\u001b[39;00m \u001b[38;5;129;01min\u001b[39;00m source:  \u001b[38;5;66;03m# Ensure unique mapping\u001b[39;00m\n\u001b[32m     62\u001b[39m         source.append(closest)\n",
      "\u001b[31mKeyboardInterrupt\u001b[39m: "
     ]
    }
   ],
   "source": [
    "max_srate = max([stream[\"nominal_srate\"] for stream in streams])\n",
    "out = align.align_streams([data[2]],sampling_rate = max_srate)"
   ]
  },
  {
   "cell_type": "code",
   "execution_count": 33,
   "metadata": {},
   "outputs": [
    {
     "data": {
      "text/plain": [
       "array([[ -20492.88,  -22000.2 ,  -19097.88, ...,  -10976.88,  -13798.8 ,\n",
       "         681770.  ],\n",
       "       [ -20490.24,  -22000.92,  -19095.6 , ...,  -10979.64,  -13798.8 ,\n",
       "         681771.  ],\n",
       "       [ -20491.08,  -22000.56,  -19098.84, ...,  -10979.52,  -13797.84,\n",
       "         681772.  ],\n",
       "       ...,\n",
       "       [ -19037.16,  -21880.44,  -20400.12, ...,  -10710.48,  -14481.24,\n",
       "        8081112.  ],\n",
       "       [ -19042.08,  -21883.32,  -20403.84, ...,  -10730.04,  -14484.72,\n",
       "        8081113.  ],\n",
       "       [ -19039.08,  -21876.36,  -20402.16, ...,  -10727.64,  -14471.4 ,\n",
       "        8081114.  ]], dtype=float32)"
      ]
     },
     "execution_count": 33,
     "metadata": {},
     "output_type": "execute_result"
    }
   ],
   "source": [
    "data[2]['time_series']"
   ]
  },
  {
   "cell_type": "code",
   "execution_count": 11,
   "metadata": {},
   "outputs": [
    {
     "data": {
      "text/plain": [
       "[<matplotlib.lines.Line2D at 0x7fe7c99ad7d0>]"
      ]
     },
     "execution_count": 11,
     "metadata": {},
     "output_type": "execute_result"
    },
    {
     "data": {
      "image/png": "[encoded data removed]",
      "text/plain": [
       "<Figure size 640x480 with 1 Axes>"
      ]
     },
     "metadata": {},
     "output_type": "display_data"
    }
   ],
   "source": [
    "from matplotlib import pyplot as plt \n",
    "plt.plot(out[0][131,0:1000],'o')"
   ]
  },
  {
   "cell_type": "code",
   "execution_count": 39,
   "metadata": {},
   "outputs": [
    {
     "data": {
      "text/plain": [
       "array([ 9616.49077289,  9616.49177289,  9616.49277289, ...,\n",
       "       17015.48890312, 17015.48990312, 17015.49090312])"
      ]
     },
     "execution_count": 39,
     "metadata": {},
     "output_type": "execute_result"
    }
   ],
   "source": [
    "info = mne.create_info(3, max_srate, [\"eeg\", \"eeg\", \"stim\"])\n",
    "raw = mne.io.RawArray(data, info)"
   ]
  },
  {
   "cell_type": "code",
   "execution_count": 38,
   "metadata": {},
   "outputs": [
    {
     "data": {
      "text/plain": [
       "array([nan, nan, nan, ..., nan, nan, nan], dtype=object)"
      ]
     },
     "execution_count": 38,
     "metadata": {},
     "output_type": "execute_result"
    }
   ],
   "source": [
    "import numpy as np\n",
    "out[0][:,130]"
   ]
  },
  {
   "cell_type": "code",
   "execution_count": 25,
   "metadata": {},
   "outputs": [
    {
     "data": {
      "text/plain": [
       "1000.0"
      ]
     },
     "execution_count": 25,
     "metadata": {},
     "output_type": "execute_result"
    }
   ],
   "source": [
    "\n",
    "srates\n"
   ]
  },
  {
   "cell_type": "code",
   "execution_count": 4,
   "metadata": {},
   "outputs": [
    {
     "name": "stdout",
     "output_type": "stream",
     "text": [
      "Creating RawArray with float64 data, n_channels=129, n_times=7399001\n",
      "    Range : 0 ... 7399000 =      0.000 ...  7399.000 secs\n",
      "Ready.\n"
     ]
    }
   ],
   "source": [
    "max_srate = max([stream[\"nominal_srate\"] for stream in streams])\n",
    "\n",
    "raw = read_raw_xdf(xdf_path,stream_ids=[stream_id],fs_new=max_srate)"
   ]
  },
  {
   "cell_type": "code",
   "execution_count": 12,
   "metadata": {},
   "outputs": [],
   "source": [
    "raw.filenames = tuple( Path(p) for p in raw.filenames)"
   ]
  },
  {
   "cell_type": "code",
   "execution_count": 9,
   "metadata": {},
   "outputs": [],
   "source": [
    "from pathlib import Path"
   ]
  },
  {
   "cell_type": "code",
   "execution_count": 13,
   "metadata": {},
   "outputs": [],
   "source": [
    "raw.export(\"/tmp/test.set\")"
   ]
  }
 ],
 "metadata": {
  "kernelspec": {
   "display_name": "autobids-new",
   "language": "python",
   "name": "python3"
  },
  "language_info": {
   "codemirror_mode": {
    "name": "ipython",
    "version": 3
   },
   "file_extension": ".py",
   "mimetype": "text/x-python",
   "name": "python",
   "nbconvert_exporter": "python",
   "pygments_lexer": "ipython3",
   "version": "3.11.7"
  }
 },
 "nbformat": 4,
 "nbformat_minor": 2
}
